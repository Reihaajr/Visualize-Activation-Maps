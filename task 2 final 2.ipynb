{
 "cells": [
  {
   "cell_type": "code",
   "execution_count": 1,
   "id": "6eefce0b",
   "metadata": {},
   "outputs": [
    {
     "name": "stderr",
     "output_type": "stream",
     "text": [
      "C:\\Users\\reiha\\anaconda3\\Lib\\site-packages\\pandas\\core\\arrays\\masked.py:60: UserWarning: Pandas requires version '1.3.6' or newer of 'bottleneck' (version '1.3.5' currently installed).\n",
      "  from pandas.core import (\n"
     ]
    }
   ],
   "source": [
    "# 1. Importing Libraries\n",
    "import tensorflow as tf\n",
    "from tensorflow.keras.preprocessing.image import ImageDataGenerator\n",
    "from tensorflow.keras.models import Model, load_model\n",
    "from tensorflow.keras.layers import Input, Conv2D, MaxPooling2D, Flatten, Dense, Dropout, BatchNormalization\n",
    "import matplotlib.pyplot as plt\n",
    "import numpy as np\n",
    "import cv2\n",
    "import os\n",
    "\n"
   ]
  },
  {
   "cell_type": "code",
   "execution_count": 2,
   "id": "3b1ea0a9",
   "metadata": {},
   "outputs": [
    {
     "name": "stdout",
     "output_type": "stream",
     "text": [
      "Found 28709 images belonging to 7 classes.\n",
      "Found 7178 images belonging to 7 classes.\n"
     ]
    }
   ],
   "source": [
    "# 2. Defining Directories for Training and Testing\n",
    "train_dir = r\"C:\\Users\\reiha\\Downloads\\archive (16)\\train\"\n",
    "test_dir = r\"C:\\Users\\reiha\\Downloads\\archive (16)\\test\"\n",
    "\n",
    "# 3. Applying Data Augmentation for Training and Testing\n",
    "train_datagen = ImageDataGenerator(\n",
    "    rescale=1.0/255,\n",
    "    rotation_range=30,\n",
    "    width_shift_range=0.2,\n",
    "    height_shift_range=0.2,\n",
    "    shear_range=0.2,\n",
    "    zoom_range=0.2,\n",
    "    horizontal_flip=True,\n",
    "    fill_mode=\"nearest\"\n",
    ")\n",
    "\n",
    "test_datagen = ImageDataGenerator(rescale=1.0/255)\n",
    "\n",
    "train_generator = train_datagen.flow_from_directory(\n",
    "    train_dir,\n",
    "    target_size=(48, 48),\n",
    "    batch_size=32,\n",
    "    class_mode=\"categorical\"\n",
    ")\n",
    "\n",
    "test_generator = test_datagen.flow_from_directory(\n",
    "    test_dir,\n",
    "    target_size=(48, 48),\n",
    "    batch_size=32,\n",
    "    class_mode=\"categorical\"\n",
    ")\n",
    "\n"
   ]
  },
  {
   "cell_type": "code",
   "execution_count": 3,
   "id": "ca56998b",
   "metadata": {},
   "outputs": [],
   "source": [
    "# 5. Building the Model using Functional API\n",
    "input_layer = Input(shape=(48, 48, 3))\n",
    "\n",
    "# Define the model architecture\n",
    "x = Conv2D(64, (3, 3), activation='relu')(input_layer)\n",
    "x = MaxPooling2D(2, 2)(x)\n",
    "x = BatchNormalization()(x)\n",
    "\n",
    "x = Conv2D(128, (3, 3), activation='relu')(x)\n",
    "x = MaxPooling2D(2, 2)(x)\n",
    "x = BatchNormalization()(x)\n",
    "\n",
    "x = Conv2D(256, (3, 3), activation='relu')(x)\n",
    "x = MaxPooling2D(2, 2)(x)\n",
    "x = BatchNormalization()(x)\n",
    "\n",
    "x = Flatten()(x)\n",
    "x = Dense(512, activation='relu')(x)\n",
    "x = Dropout(0.5)(x)\n",
    "x = Dense(256, activation='relu')(x)\n",
    "x = Dropout(0.5)(x)\n",
    "output_layer = Dense(7, activation='softmax')(x)  # 7 emotion classes\n",
    "\n",
    "# Define the final model\n",
    "custom_model = Model(inputs=input_layer, outputs=output_layer)\n",
    "\n",
    "# Compile the model\n",
    "custom_model.compile(optimizer=tf.keras.optimizers.Adam(learning_rate=0.001),\n",
    "                     loss='categorical_crossentropy',\n",
    "                     metrics=['accuracy'])\n",
    "\n"
   ]
  },
  {
   "cell_type": "code",
   "execution_count": 11,
   "id": "64a6551c",
   "metadata": {},
   "outputs": [
    {
     "name": "stdout",
     "output_type": "stream",
     "text": [
      "Epoch 1/10\n",
      "\u001b[1m898/898\u001b[0m \u001b[32m━━━━━━━━━━━━━━━━━━━━\u001b[0m\u001b[37m\u001b[0m \u001b[1m80s\u001b[0m 89ms/step - accuracy: 0.2794 - loss: 1.7433 - val_accuracy: 0.2974 - val_loss: 1.7154\n",
      "Epoch 2/10\n",
      "\u001b[1m898/898\u001b[0m \u001b[32m━━━━━━━━━━━━━━━━━━━━\u001b[0m\u001b[37m\u001b[0m \u001b[1m77s\u001b[0m 86ms/step - accuracy: 0.2876 - loss: 1.7410 - val_accuracy: 0.3155 - val_loss: 1.7001\n",
      "Epoch 3/10\n",
      "\u001b[1m898/898\u001b[0m \u001b[32m━━━━━━━━━━━━━━━━━━━━\u001b[0m\u001b[37m\u001b[0m \u001b[1m284s\u001b[0m 316ms/step - accuracy: 0.3045 - loss: 1.6893 - val_accuracy: 0.3704 - val_loss: 1.6209\n",
      "Epoch 4/10\n",
      "\u001b[1m898/898\u001b[0m \u001b[32m━━━━━━━━━━━━━━━━━━━━\u001b[0m\u001b[37m\u001b[0m \u001b[1m51s\u001b[0m 57ms/step - accuracy: 0.3400 - loss: 1.6436 - val_accuracy: 0.4288 - val_loss: 1.4837\n",
      "Epoch 5/10\n",
      "\u001b[1m898/898\u001b[0m \u001b[32m━━━━━━━━━━━━━━━━━━━━\u001b[0m\u001b[37m\u001b[0m \u001b[1m50s\u001b[0m 56ms/step - accuracy: 0.3433 - loss: 1.6115 - val_accuracy: 0.3672 - val_loss: 1.5528\n",
      "Epoch 6/10\n",
      "\u001b[1m898/898\u001b[0m \u001b[32m━━━━━━━━━━━━━━━━━━━━\u001b[0m\u001b[37m\u001b[0m \u001b[1m50s\u001b[0m 56ms/step - accuracy: 0.3686 - loss: 1.5773 - val_accuracy: 0.4388 - val_loss: 1.4601\n",
      "Epoch 7/10\n",
      "\u001b[1m898/898\u001b[0m \u001b[32m━━━━━━━━━━━━━━━━━━━━\u001b[0m\u001b[37m\u001b[0m \u001b[1m50s\u001b[0m 56ms/step - accuracy: 0.3813 - loss: 1.5640 - val_accuracy: 0.4489 - val_loss: 1.4276\n",
      "Epoch 8/10\n",
      "\u001b[1m898/898\u001b[0m \u001b[32m━━━━━━━━━━━━━━━━━━━━\u001b[0m\u001b[37m\u001b[0m \u001b[1m50s\u001b[0m 56ms/step - accuracy: 0.3996 - loss: 1.5357 - val_accuracy: 0.4646 - val_loss: 1.3832\n",
      "Epoch 9/10\n",
      "\u001b[1m898/898\u001b[0m \u001b[32m━━━━━━━━━━━━━━━━━━━━\u001b[0m\u001b[37m\u001b[0m \u001b[1m50s\u001b[0m 56ms/step - accuracy: 0.4074 - loss: 1.5217 - val_accuracy: 0.4836 - val_loss: 1.3396\n",
      "Epoch 10/10\n",
      "\u001b[1m898/898\u001b[0m \u001b[32m━━━━━━━━━━━━━━━━━━━━\u001b[0m\u001b[37m\u001b[0m \u001b[1m50s\u001b[0m 56ms/step - accuracy: 0.4208 - loss: 1.4858 - val_accuracy: 0.4579 - val_loss: 1.4645\n"
     ]
    },
    {
     "data": {
      "text/plain": [
       "<keras.src.callbacks.history.History at 0x1b1400cfe90>"
      ]
     },
     "execution_count": 11,
     "metadata": {},
     "output_type": "execute_result"
    }
   ],
   "source": [
    "# 6. Train the model (Pretraining)\n",
    "custom_model.fit(\n",
    "    train_generator,\n",
    "    epochs=10,  # Pretrain for 10 epochs\n",
    "    validation_data=test_generator\n",
    ")\n",
    "\n"
   ]
  },
  {
   "cell_type": "code",
   "execution_count": 5,
   "id": "7b1d0cc6",
   "metadata": {},
   "outputs": [
    {
     "name": "stderr",
     "output_type": "stream",
     "text": [
      "WARNING:absl:You are saving your model as an HDF5 file via `model.save()` or `keras.saving.save_model(model)`. This file format is considered legacy. We recommend using instead the native Keras format, e.g. `model.save('my_model.keras')` or `keras.saving.save_model(model, 'my_model.keras')`. \n"
     ]
    }
   ],
   "source": [
    "# Save the pretrained model\n",
    "custom_model.save(\"custom_emotion_model.h5\")\n",
    "\n"
   ]
  },
  {
   "cell_type": "code",
   "execution_count": 12,
   "id": "e8d3fbad",
   "metadata": {},
   "outputs": [
    {
     "name": "stderr",
     "output_type": "stream",
     "text": [
      "WARNING:absl:Compiled the loaded model, but the compiled metrics have yet to be built. `model.compile_metrics` will be empty until you train or evaluate the model.\n"
     ]
    },
    {
     "name": "stdout",
     "output_type": "stream",
     "text": [
      "Epoch 1/15\n",
      "\u001b[1m898/898\u001b[0m \u001b[32m━━━━━━━━━━━━━━━━━━━━\u001b[0m\u001b[37m\u001b[0m \u001b[1m52s\u001b[0m 56ms/step - accuracy: 0.2487 - loss: 1.8114 - val_accuracy: 0.2807 - val_loss: 1.7820\n",
      "Epoch 2/15\n",
      "\u001b[1m898/898\u001b[0m \u001b[32m━━━━━━━━━━━━━━━━━━━━\u001b[0m\u001b[37m\u001b[0m \u001b[1m50s\u001b[0m 55ms/step - accuracy: 0.2624 - loss: 1.7906 - val_accuracy: 0.2923 - val_loss: 1.7337\n",
      "Epoch 3/15\n",
      "\u001b[1m898/898\u001b[0m \u001b[32m━━━━━━━━━━━━━━━━━━━━\u001b[0m\u001b[37m\u001b[0m \u001b[1m50s\u001b[0m 56ms/step - accuracy: 0.2714 - loss: 1.7729 - val_accuracy: 0.2321 - val_loss: 1.8082\n",
      "Epoch 4/15\n",
      "\u001b[1m898/898\u001b[0m \u001b[32m━━━━━━━━━━━━━━━━━━━━\u001b[0m\u001b[37m\u001b[0m \u001b[1m50s\u001b[0m 56ms/step - accuracy: 0.2875 - loss: 1.7357 - val_accuracy: 0.3585 - val_loss: 1.6182\n",
      "Epoch 5/15\n",
      "\u001b[1m898/898\u001b[0m \u001b[32m━━━━━━━━━━━━━━━━━━━━\u001b[0m\u001b[37m\u001b[0m \u001b[1m50s\u001b[0m 56ms/step - accuracy: 0.3066 - loss: 1.7136 - val_accuracy: 0.3862 - val_loss: 1.5908\n",
      "Epoch 6/15\n",
      "\u001b[1m898/898\u001b[0m \u001b[32m━━━━━━━━━━━━━━━━━━━━\u001b[0m\u001b[37m\u001b[0m \u001b[1m50s\u001b[0m 56ms/step - accuracy: 0.3189 - loss: 1.6791 - val_accuracy: 0.3766 - val_loss: 1.6247\n",
      "Epoch 7/15\n",
      "\u001b[1m898/898\u001b[0m \u001b[32m━━━━━━━━━━━━━━━━━━━━\u001b[0m\u001b[37m\u001b[0m \u001b[1m50s\u001b[0m 56ms/step - accuracy: 0.3419 - loss: 1.6507 - val_accuracy: 0.4202 - val_loss: 1.5505\n",
      "Epoch 8/15\n",
      "\u001b[1m898/898\u001b[0m \u001b[32m━━━━━━━━━━━━━━━━━━━━\u001b[0m\u001b[37m\u001b[0m \u001b[1m50s\u001b[0m 56ms/step - accuracy: 0.3502 - loss: 1.6289 - val_accuracy: 0.4277 - val_loss: 1.5049\n",
      "Epoch 9/15\n",
      "\u001b[1m898/898\u001b[0m \u001b[32m━━━━━━━━━━━━━━━━━━━━\u001b[0m\u001b[37m\u001b[0m \u001b[1m50s\u001b[0m 56ms/step - accuracy: 0.3676 - loss: 1.5955 - val_accuracy: 0.4536 - val_loss: 1.4467\n",
      "Epoch 10/15\n",
      "\u001b[1m898/898\u001b[0m \u001b[32m━━━━━━━━━━━━━━━━━━━━\u001b[0m\u001b[37m\u001b[0m \u001b[1m50s\u001b[0m 56ms/step - accuracy: 0.3786 - loss: 1.5782 - val_accuracy: 0.4788 - val_loss: 1.3886\n",
      "Epoch 11/15\n",
      "\u001b[1m898/898\u001b[0m \u001b[32m━━━━━━━━━━━━━━━━━━━━\u001b[0m\u001b[37m\u001b[0m \u001b[1m50s\u001b[0m 56ms/step - accuracy: 0.3957 - loss: 1.5492 - val_accuracy: 0.4557 - val_loss: 1.4369\n",
      "Epoch 12/15\n",
      "\u001b[1m898/898\u001b[0m \u001b[32m━━━━━━━━━━━━━━━━━━━━\u001b[0m\u001b[37m\u001b[0m \u001b[1m50s\u001b[0m 56ms/step - accuracy: 0.4051 - loss: 1.5234 - val_accuracy: 0.4974 - val_loss: 1.3310\n",
      "Epoch 13/15\n",
      "\u001b[1m898/898\u001b[0m \u001b[32m━━━━━━━━━━━━━━━━━━━━\u001b[0m\u001b[37m\u001b[0m \u001b[1m50s\u001b[0m 56ms/step - accuracy: 0.4173 - loss: 1.4970 - val_accuracy: 0.5045 - val_loss: 1.3224\n",
      "Epoch 14/15\n",
      "\u001b[1m898/898\u001b[0m \u001b[32m━━━━━━━━━━━━━━━━━━━━\u001b[0m\u001b[37m\u001b[0m \u001b[1m50s\u001b[0m 56ms/step - accuracy: 0.4339 - loss: 1.4817 - val_accuracy: 0.4944 - val_loss: 1.3072\n",
      "Epoch 15/15\n",
      "\u001b[1m898/898\u001b[0m \u001b[32m━━━━━━━━━━━━━━━━━━━━\u001b[0m\u001b[37m\u001b[0m \u001b[1m50s\u001b[0m 56ms/step - accuracy: 0.4352 - loss: 1.4632 - val_accuracy: 0.5011 - val_loss: 1.3071\n"
     ]
    }
   ],
   "source": [
    "# Load the pretrained model\n",
    "pretrained_model = load_model(\"custom_emotion_model.h5\")\n",
    "\n",
    "# Unfreeze some layers for fine-tuning\n",
    "for layer in pretrained_model.layers[:-4]:  \n",
    "    layer.trainable = True\n",
    "\n",
    "# Compile the fine-tuned model with a lower learning rate\n",
    "pretrained_model.compile(optimizer=tf.keras.optimizers.Adam(learning_rate=0.0001),\n",
    "                         loss='categorical_crossentropy',\n",
    "                         metrics=['accuracy'])\n",
    "\n",
    "# Fine-tune the model\n",
    "history = pretrained_model.fit(\n",
    "    train_generator,\n",
    "    epochs=15,  # Fine-tune for 25 more epochs\n",
    "    validation_data=test_generator\n",
    ")\n",
    "\n"
   ]
  },
  {
   "cell_type": "code",
   "execution_count": 13,
   "id": "6133a721",
   "metadata": {},
   "outputs": [
    {
     "name": "stdout",
     "output_type": "stream",
     "text": [
      "\u001b[1m225/225\u001b[0m \u001b[32m━━━━━━━━━━━━━━━━━━━━\u001b[0m\u001b[37m\u001b[0m \u001b[1m8s\u001b[0m 36ms/step - accuracy: 0.5065 - loss: 1.3013\n",
      "Fine-Tuned Test Accuracy: 50.11%\n"
     ]
    }
   ],
   "source": [
    "# 8. Evaluating the Model\n",
    "test_loss, test_accuracy = pretrained_model.evaluate(test_generator)\n",
    "print(f\"Fine-Tuned Test Accuracy: {test_accuracy * 100:.2f}%\")\n",
    "\n"
   ]
  },
  {
   "cell_type": "code",
   "execution_count": 14,
   "id": "2672b775",
   "metadata": {},
   "outputs": [
    {
     "name": "stdout",
     "output_type": "stream",
     "text": [
      "\u001b[1m1/1\u001b[0m \u001b[32m━━━━━━━━━━━━━━━━━━━━\u001b[0m\u001b[37m\u001b[0m \u001b[1m0s\u001b[0m 140ms/step\n",
      "Activations Shape: (1, 8, 8, 256)\n"
     ]
    },
    {
     "data": {
      "image/png": "[encoded data removed]",
      "text/plain": [
       "<Figure size 1200x1200 with 64 Axes>"
      ]
     },
     "metadata": {},
     "output_type": "display_data"
    }
   ],
   "source": [
    "# 9. Function to visualize activation maps\n",
    "def preprocess_image(img_path):\n",
    "    img = cv2.imread(img_path)\n",
    "    img = cv2.resize(img, (48, 48))  # Resize to the size expected by the model\n",
    "    img = img / 255.0  # Normalize the image\n",
    "    img = np.expand_dims(img, axis=0)  # Add batch dimension\n",
    "    return img\n",
    "\n",
    "def visualize_activation_map(img_path, model):\n",
    "    img = preprocess_image(img_path)\n",
    "    \n",
    "    # Choose the layer for activation map (e.g., the last convolutional layer)\n",
    "    last_conv_layer = model.get_layer(\"conv2d_2\")  # Update this to any layer you want\n",
    "    \n",
    "    # Create a model that will return the activations of the chosen convolutional layer\n",
    "    activation_model = Model(inputs=model.input, outputs=last_conv_layer.output)\n",
    "    \n",
    "    # Get the activations\n",
    "    activations = activation_model.predict(img)\n",
    "    \n",
    "    # Print the shape of the activations to check\n",
    "    print(\"Activations Shape:\", activations.shape)\n",
    "    \n",
    "    # Visualize the first few filters\n",
    "    num_filters = activations.shape[-1]\n",
    "    \n",
    "    # Define a grid to display multiple filters (8x8 grid for example)\n",
    "    grid_size = min(8, num_filters)\n",
    "    \n",
    "    # Create a plot with a grid of subplots\n",
    "    fig, axes = plt.subplots(grid_size, grid_size, figsize=(12, 12))\n",
    "    axes = axes.flatten()\n",
    "    \n",
    "    for i in range(grid_size * grid_size):\n",
    "        ax = axes[i]\n",
    "        ax.imshow(activations[0, :, :, i], cmap='viridis')  # Show the i-th filter\n",
    "        ax.axis('off')  # Hide axes for clarity\n",
    "        \n",
    "    plt.suptitle('Activation Maps for the Model')\n",
    "    plt.show()\n",
    "\n",
    "# Test on an image from the dataset\n",
    "sample_img = r\"C:\\Users\\reiha\\Downloads\\archive (16)\\train\\neutral\\Training_995545.jpg\"\n",
    "visualize_activation_map(sample_img, pretrained_model)"
   ]
  },
  {
   "cell_type": "code",
   "execution_count": null,
   "id": "0ccdca1d",
   "metadata": {},
   "outputs": [],
   "source": []
  }
 ],
 "metadata": {
  "kernelspec": {
   "display_name": "Python 3 (ipykernel)",
   "language": "python",
   "name": "python3"
  },
  "language_info": {
   "codemirror_mode": {
    "name": "ipython",
    "version": 3
   },
   "file_extension": ".py",
   "mimetype": "text/x-python",
   "name": "python",
   "nbconvert_exporter": "python",
   "pygments_lexer": "ipython3",
   "version": "3.11.4"
  }
 },
 "nbformat": 4,
 "nbformat_minor": 5
}
